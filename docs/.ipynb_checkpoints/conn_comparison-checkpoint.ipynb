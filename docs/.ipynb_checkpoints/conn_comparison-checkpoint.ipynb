{
 "cells": [
  {
   "cell_type": "code",
   "execution_count": 1,
   "metadata": {},
   "outputs": [],
   "source": [
    "import pandas as pd\n",
    "import matplotlib.pyplot as plt"
   ]
  },
  {
   "cell_type": "code",
   "execution_count": 2,
   "metadata": {},
   "outputs": [
    {
     "data": {
      "text/html": [
       "<div>\n",
       "<style scoped>\n",
       "    .dataframe tbody tr th:only-of-type {\n",
       "        vertical-align: middle;\n",
       "    }\n",
       "\n",
       "    .dataframe tbody tr th {\n",
       "        vertical-align: top;\n",
       "    }\n",
       "\n",
       "    .dataframe thead th {\n",
       "        text-align: right;\n",
       "    }\n",
       "</style>\n",
       "<table border=\"1\" class=\"dataframe\">\n",
       "  <thead>\n",
       "    <tr style=\"text-align: right;\">\n",
       "      <th></th>\n",
       "      <th>id</th>\n",
       "      <th>name</th>\n",
       "      <th>in_conn</th>\n",
       "      <th>in_conn_compound</th>\n",
       "      <th>in_conn_complex03</th>\n",
       "      <th>in_conn_complex05</th>\n",
       "      <th>in_conn_complex07</th>\n",
       "      <th>out_conn</th>\n",
       "      <th>attr_version</th>\n",
       "    </tr>\n",
       "  </thead>\n",
       "  <tbody>\n",
       "    <tr>\n",
       "      <th>0</th>\n",
       "      <td>455</td>\n",
       "      <td>cc</td>\n",
       "      <td>1097</td>\n",
       "      <td>47022</td>\n",
       "      <td>3932.791030</td>\n",
       "      <td>8520.851328</td>\n",
       "      <td>16196.125660</td>\n",
       "      <td>1</td>\n",
       "      <td>1.0.72</td>\n",
       "    </tr>\n",
       "    <tr>\n",
       "      <th>1</th>\n",
       "      <td>1364</td>\n",
       "      <td>syn</td>\n",
       "      <td>3682</td>\n",
       "      <td>50935</td>\n",
       "      <td>6032.058392</td>\n",
       "      <td>9128.400805</td>\n",
       "      <td>15357.822520</td>\n",
       "      <td>3</td>\n",
       "      <td>1.0.85</td>\n",
       "    </tr>\n",
       "    <tr>\n",
       "      <th>2</th>\n",
       "      <td>598</td>\n",
       "      <td>ryu</td>\n",
       "      <td>43</td>\n",
       "      <td>42469</td>\n",
       "      <td>4042.193740</td>\n",
       "      <td>8037.927542</td>\n",
       "      <td>13960.587380</td>\n",
       "      <td>1</td>\n",
       "      <td>1.0.9</td>\n",
       "    </tr>\n",
       "    <tr>\n",
       "      <th>3</th>\n",
       "      <td>33126</td>\n",
       "      <td>jobserver</td>\n",
       "      <td>12</td>\n",
       "      <td>47023</td>\n",
       "      <td>1208.700809</td>\n",
       "      <td>4298.113164</td>\n",
       "      <td>11372.783460</td>\n",
       "      <td>1</td>\n",
       "      <td>0.1.24</td>\n",
       "    </tr>\n",
       "    <tr>\n",
       "      <th>4</th>\n",
       "      <td>43647</td>\n",
       "      <td>no-panic</td>\n",
       "      <td>8</td>\n",
       "      <td>42479</td>\n",
       "      <td>1226.847723</td>\n",
       "      <td>4038.932032</td>\n",
       "      <td>9793.856936</td>\n",
       "      <td>3</td>\n",
       "      <td>0.1.15</td>\n",
       "    </tr>\n",
       "  </tbody>\n",
       "</table>\n",
       "</div>"
      ],
      "text/plain": [
       "      id       name  in_conn  in_conn_compound  in_conn_complex03  \\\n",
       "0    455         cc     1097             47022        3932.791030   \n",
       "1   1364        syn     3682             50935        6032.058392   \n",
       "2    598        ryu       43             42469        4042.193740   \n",
       "3  33126  jobserver       12             47023        1208.700809   \n",
       "4  43647   no-panic        8             42479        1226.847723   \n",
       "\n",
       "   in_conn_complex05  in_conn_complex07  out_conn attr_version  \n",
       "0        8520.851328       16196.125660         1       1.0.72  \n",
       "1        9128.400805       15357.822520         3       1.0.85  \n",
       "2        8037.927542       13960.587380         1        1.0.9  \n",
       "3        4298.113164       11372.783460         1       0.1.24  \n",
       "4        4038.932032        9793.856936         3       0.1.15  "
      ]
     },
     "execution_count": 2,
     "metadata": {},
     "output_type": "execute_result"
    }
   ],
   "source": [
    "node_crates = pd.read_csv(\"./node_crate.csv\")\n",
    "node_crates.head()"
   ]
  },
  {
   "cell_type": "code",
   "execution_count": 3,
   "metadata": {},
   "outputs": [
    {
     "data": {
      "text/plain": [
       "0                    cc\n",
       "1                   syn\n",
       "2                   ryu\n",
       "3             jobserver\n",
       "4              no-panic\n",
       "              ...      \n",
       "74850             aconv\n",
       "74851    act-zero-macro\n",
       "74852           act-bin\n",
       "74853           actaeon\n",
       "74854       actori-cors\n",
       "Name: name, Length: 74855, dtype: object"
      ]
     },
     "execution_count": 3,
     "metadata": {},
     "output_type": "execute_result"
    }
   ],
   "source": [
    "crate_names = node_crates.name.astype(str)\n",
    "crate_names"
   ]
  },
  {
   "cell_type": "code",
   "execution_count": 4,
   "metadata": {},
   "outputs": [],
   "source": [
    "def select_top_n(df, col_names, n=100):\n",
    "    df = df.sort_values(col_names, ascending=False).head(n)\n",
    "    return (df.name.astype(str), [df[col_name].astype(float) for col_name in col_names])"
   ]
  },
  {
   "cell_type": "code",
   "execution_count": 7,
   "metadata": {},
   "outputs": [
    {
     "data": {
      "image/png": "[encoded data removed]",
      "text/plain": [
       "<Figure size 432x288 with 1 Axes>"
      ]
     },
     "metadata": {
      "needs_background": "light"
     },
     "output_type": "display_data"
    },
    {
     "data": {
      "text/plain": [
       "<Figure size 10000x10000 with 0 Axes>"
      ]
     },
     "metadata": {},
     "output_type": "display_data"
    }
   ],
   "source": [
    "(x, ys) = select_top_n(node_crates, [\"in_conn_compound\", \"in_conn_complex03\", \"in_conn_complex05\", \"in_conn_complex07\"])\n",
    "[plt.plot(x, y) for y in ys]\n",
    "\n",
    "# Set size\n",
    "plt.figure(figsize=(10, 10), dpi=100)\n",
    "\n",
    "plt.show()\n"
   ]
  },
  {
   "cell_type": "code",
   "execution_count": null,
   "metadata": {},
   "outputs": [],
   "source": []
  }
 ],
 "metadata": {
  "interpreter": {
   "hash": "5832dc710db8a852ea9722c88497a3f83e84907915d40dbac60db5337b910632"
  },
  "kernelspec": {
   "display_name": "Python 3.8.8 64-bit ('base': conda)",
   "language": "python",
   "name": "python388jvsc74a57bd05832dc710db8a852ea9722c88497a3f83e84907915d40dbac60db5337b910632"
  },
  "language_info": {
   "codemirror_mode": {
    "name": "ipython",
    "version": 3
   },
   "file_extension": ".py",
   "mimetype": "text/x-python",
   "name": "python",
   "nbconvert_exporter": "python",
   "pygments_lexer": "ipython3",
   "version": "3.9.7"
  }
 },
 "nbformat": 4,
 "nbformat_minor": 2
}
